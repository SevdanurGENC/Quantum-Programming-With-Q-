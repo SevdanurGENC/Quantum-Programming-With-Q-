{
 "cells": [
  {
   "cell_type": "code",
   "execution_count": 1,
   "id": "bc817ca2",
   "metadata": {},
   "outputs": [
    {
     "data": {
      "application/json": "[\"SampleQuantumRandomNumberGenerator\"]",
      "text/html": [
       "<ul><li>SampleQuantumRandomNumberGenerator</li></ul>"
      ],
      "text/plain": [
       "SampleQuantumRandomNumberGenerator"
      ]
     },
     "execution_count": 1,
     "metadata": {},
     "output_type": "execute_result"
    }
   ],
   "source": [
    "open Microsoft.Quantum.Intrinsic;\n",
    "\n",
    "operation SampleQuantumRandomNumberGenerator() : Result {\n",
    "    use q = Qubit(); // Allocate a qubit.\n",
    "    H(q);            // Put the qubit to superposition. It now has a 50% chance of being 0 or 1.\n",
    "    let r = M(q);    // Measure the qubit value.\n",
    "    Reset(q);\n",
    "    return r;\n",
    "}"
   ]
  },
  {
   "cell_type": "code",
   "execution_count": 6,
   "id": "3348dea4",
   "metadata": {
    "scrolled": true
   },
   "outputs": [
    {
     "data": {
      "application/json": "1",
      "text/plain": [
       "One"
      ]
     },
     "execution_count": 6,
     "metadata": {},
     "output_type": "execute_result"
    }
   ],
   "source": [
    "%simulate SampleQuantumRandomNumberGenerator"
   ]
  },
  {
   "cell_type": "code",
   "execution_count": null,
   "id": "e91b2a56",
   "metadata": {},
   "outputs": [],
   "source": []
  }
 ],
 "metadata": {
  "kernelspec": {
   "display_name": "Q#",
   "language": "qsharp",
   "name": "iqsharp"
  },
  "language_info": {
   "file_extension": ".qs",
   "mimetype": "text/x-qsharp",
   "name": "qsharp",
   "version": "0.14"
  }
 },
 "nbformat": 4,
 "nbformat_minor": 5
}
